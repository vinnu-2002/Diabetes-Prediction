{
 "cells": [
  {
   "cell_type": "code",
   "execution_count": 3,
   "id": "1dc3693f",
   "metadata": {},
   "outputs": [
    {
     "name": "stdout",
     "output_type": "stream",
     "text": [
      "Enter number of pregnancies: 4\n",
      "Enter glucose level: 148\n",
      "Enter blood pressure: 72\n",
      "Enter skin thickness: 35\n",
      "Enter insulin level: 0\n",
      "Enter body mass index: 33\n",
      "Enter Diabetes Pedigree Function: 0.6\n",
      "Enter age: 50\n",
      "Based on the information provided, you have a low risk of diabetes.\n"
     ]
    },
    {
     "name": "stderr",
     "output_type": "stream",
     "text": [
      "C:\\Users\\IRONMAN\\anaconda3\\lib\\site-packages\\sklearn\\base.py:439: UserWarning: X does not have valid feature names, but KNeighborsClassifier was fitted with feature names\n",
      "  warnings.warn(\n"
     ]
    }
   ],
   "source": [
    "# Import necessary libraries\n",
    "import pickle\n",
    "import numpy as np\n",
    "\n",
    "# Load the saved model\n",
    "with open('XGB model.pkl', 'rb') as f:\n",
    "    model = pickle.load(f)\n",
    "\n",
    "# Define input variables\n",
    "pregnancies = int(input(\"Enter number of pregnancies: \"))\n",
    "glucose = int(input(\"Enter glucose level: \"))\n",
    "bloodpressure = int(input(\"Enter blood pressure: \"))\n",
    "skinthickness = int(input(\"Enter skin thickness: \"))\n",
    "insulin = int(input(\"Enter insulin level: \"))\n",
    "bmi = float(input(\"Enter body mass index: \"))\n",
    "diaPedFun= float(input(\"Enter Diabetes Pedigree Function: \"))\n",
    "age = int(input(\"Enter age: \"))\n",
    "\n",
    "# Prepare input data\n",
    "new_data = np.array([pregnancies, glucose, bloodpressure, skinthickness, insulin, bmi, diaPedFun, age])\n",
    "\n",
    "# Predict diabetes risk\n",
    "prediction = model.predict(new_data.reshape(1, -1))[0]\n",
    "\n",
    "if prediction == 0:\n",
    "    print(\"Based on the information provided, you have a low risk of diabetes.\")\n",
    "else:\n",
    "    print(\"Based on the information provided, you have a high risk of diabetes. Please consult a healthcare professional for further evaluation.\")\n"
   ]
  },
  {
   "cell_type": "code",
   "execution_count": 4,
   "id": "cb35ff75",
   "metadata": {},
   "outputs": [
    {
     "name": "stderr",
     "output_type": "stream",
     "text": [
      "2023-12-09 10:28:43.803 \n",
      "  \u001b[33m\u001b[1mWarning:\u001b[0m to view this Streamlit app on a browser, run it with the following\n",
      "  command:\n",
      "\n",
      "    streamlit run C:\\Users\\IRONMAN\\anaconda3\\lib\\site-packages\\ipykernel_launcher.py [ARGUMENTS]\n"
     ]
    },
    {
     "ename": "RuntimeError",
     "evalue": "Runtime hasn't been created!",
     "output_type": "error",
     "traceback": [
      "\u001b[1;31m---------------------------------------------------------------------------\u001b[0m",
      "\u001b[1;31mFileNotFoundError\u001b[0m                         Traceback (most recent call last)",
      "File \u001b[1;32m~\\anaconda3\\lib\\site-packages\\streamlit\\elements\\image.py:379\u001b[0m, in \u001b[0;36mimage_to_url\u001b[1;34m(image, width, clamp, channels, output_format, image_id)\u001b[0m\n\u001b[0;32m    378\u001b[0m \u001b[38;5;28;01mtry\u001b[39;00m:\n\u001b[1;32m--> 379\u001b[0m     \u001b[38;5;28;01mwith\u001b[39;00m \u001b[38;5;28;43mopen\u001b[39;49m\u001b[43m(\u001b[49m\u001b[43mimage\u001b[49m\u001b[43m,\u001b[49m\u001b[43m \u001b[49m\u001b[38;5;124;43m\"\u001b[39;49m\u001b[38;5;124;43mrb\u001b[39;49m\u001b[38;5;124;43m\"\u001b[39;49m\u001b[43m)\u001b[49m \u001b[38;5;28;01mas\u001b[39;00m f:\n\u001b[0;32m    380\u001b[0m         image_data \u001b[38;5;241m=\u001b[39m f\u001b[38;5;241m.\u001b[39mread()\n",
      "\u001b[1;31mFileNotFoundError\u001b[0m: [Errno 2] No such file or directory: 'img/logo.png'",
      "\nDuring handling of the above exception, another exception occurred:\n",
      "\u001b[1;31mRuntimeError\u001b[0m                              Traceback (most recent call last)",
      "Cell \u001b[1;32mIn[4], line 28\u001b[0m\n\u001b[0;32m     24\u001b[0m st\u001b[38;5;241m.\u001b[39mtitle(\u001b[38;5;124m'\u001b[39m\u001b[38;5;124mDiabetes Estimation\u001b[39m\u001b[38;5;124m'\u001b[39m)\n\u001b[0;32m     26\u001b[0m st\u001b[38;5;241m.\u001b[39msubheader(\u001b[38;5;124m'\u001b[39m\u001b[38;5;124mEstimate your risk of developing Type II Diabetes based on your biomarker values, using a trusted machine learning algorithm.\u001b[39m\u001b[38;5;124m'\u001b[39m)\n\u001b[1;32m---> 28\u001b[0m \u001b[43mst\u001b[49m\u001b[38;5;241;43m.\u001b[39;49m\u001b[43msidebar\u001b[49m\u001b[38;5;241;43m.\u001b[39;49m\u001b[43mimage\u001b[49m\u001b[43m(\u001b[49m\u001b[38;5;124;43m'\u001b[39;49m\u001b[38;5;124;43mimg/logo.png\u001b[39;49m\u001b[38;5;124;43m'\u001b[39;49m\u001b[43m,\u001b[49m\u001b[43m \u001b[49m\u001b[43muse_column_width\u001b[49m\u001b[38;5;241;43m=\u001b[39;49m\u001b[38;5;124;43m'\u001b[39;49m\u001b[38;5;124;43mauto\u001b[39;49m\u001b[38;5;124;43m'\u001b[39;49m\u001b[43m,\u001b[49m\u001b[43m \u001b[49m\u001b[43moutput_format\u001b[49m\u001b[38;5;241;43m=\u001b[39;49m\u001b[38;5;124;43m'\u001b[39;49m\u001b[38;5;124;43mPNG\u001b[39;49m\u001b[38;5;124;43m'\u001b[39;49m\u001b[43m)\u001b[49m\n\u001b[0;32m     30\u001b[0m st\u001b[38;5;241m.\u001b[39msidebar\u001b[38;5;241m.\u001b[39msubheader(\u001b[38;5;124m'\u001b[39m\u001b[38;5;124mInsert your biomarker values here:\u001b[39m\u001b[38;5;124m'\u001b[39m)\n\u001b[0;32m     32\u001b[0m \u001b[38;5;28;01mdef\u001b[39;00m \u001b[38;5;21muser_input\u001b[39m():\n",
      "File \u001b[1;32m~\\anaconda3\\lib\\site-packages\\streamlit\\runtime\\metrics_util.py:396\u001b[0m, in \u001b[0;36mgather_metrics.<locals>.wrapped_func\u001b[1;34m(*args, **kwargs)\u001b[0m\n\u001b[0;32m    394\u001b[0m         _LOGGER\u001b[38;5;241m.\u001b[39mdebug(\u001b[38;5;124m\"\u001b[39m\u001b[38;5;124mFailed to collect command telemetry\u001b[39m\u001b[38;5;124m\"\u001b[39m, exc_info\u001b[38;5;241m=\u001b[39mex)\n\u001b[0;32m    395\u001b[0m \u001b[38;5;28;01mtry\u001b[39;00m:\n\u001b[1;32m--> 396\u001b[0m     result \u001b[38;5;241m=\u001b[39m non_optional_func(\u001b[38;5;241m*\u001b[39margs, \u001b[38;5;241m*\u001b[39m\u001b[38;5;241m*\u001b[39mkwargs)\n\u001b[0;32m    397\u001b[0m \u001b[38;5;28;01mexcept\u001b[39;00m RerunException \u001b[38;5;28;01mas\u001b[39;00m ex:\n\u001b[0;32m    398\u001b[0m     \u001b[38;5;66;03m# Duplicated from below, because static analysis tools get confused\u001b[39;00m\n\u001b[0;32m    399\u001b[0m     \u001b[38;5;66;03m# by deferring the rethrow.\u001b[39;00m\n\u001b[0;32m    400\u001b[0m     \u001b[38;5;28;01mif\u001b[39;00m tracking_activated \u001b[38;5;129;01mand\u001b[39;00m command_telemetry:\n",
      "File \u001b[1;32m~\\anaconda3\\lib\\site-packages\\streamlit\\elements\\image.py:169\u001b[0m, in \u001b[0;36mImageMixin.image\u001b[1;34m(self, image, caption, width, use_column_width, clamp, channels, output_format)\u001b[0m\n\u001b[0;32m    166\u001b[0m     \u001b[38;5;28;01mraise\u001b[39;00m StreamlitAPIException(\u001b[38;5;124m\"\u001b[39m\u001b[38;5;124mImage width must be positive.\u001b[39m\u001b[38;5;124m\"\u001b[39m)\n\u001b[0;32m    168\u001b[0m image_list_proto \u001b[38;5;241m=\u001b[39m ImageListProto()\n\u001b[1;32m--> 169\u001b[0m \u001b[43mmarshall_images\u001b[49m\u001b[43m(\u001b[49m\n\u001b[0;32m    170\u001b[0m \u001b[43m    \u001b[49m\u001b[38;5;28;43mself\u001b[39;49m\u001b[38;5;241;43m.\u001b[39;49m\u001b[43mdg\u001b[49m\u001b[38;5;241;43m.\u001b[39;49m\u001b[43m_get_delta_path_str\u001b[49m\u001b[43m(\u001b[49m\u001b[43m)\u001b[49m\u001b[43m,\u001b[49m\n\u001b[0;32m    171\u001b[0m \u001b[43m    \u001b[49m\u001b[43mimage\u001b[49m\u001b[43m,\u001b[49m\n\u001b[0;32m    172\u001b[0m \u001b[43m    \u001b[49m\u001b[43mcaption\u001b[49m\u001b[43m,\u001b[49m\n\u001b[0;32m    173\u001b[0m \u001b[43m    \u001b[49m\u001b[43mwidth\u001b[49m\u001b[43m,\u001b[49m\n\u001b[0;32m    174\u001b[0m \u001b[43m    \u001b[49m\u001b[43mimage_list_proto\u001b[49m\u001b[43m,\u001b[49m\n\u001b[0;32m    175\u001b[0m \u001b[43m    \u001b[49m\u001b[43mclamp\u001b[49m\u001b[43m,\u001b[49m\n\u001b[0;32m    176\u001b[0m \u001b[43m    \u001b[49m\u001b[43mchannels\u001b[49m\u001b[43m,\u001b[49m\n\u001b[0;32m    177\u001b[0m \u001b[43m    \u001b[49m\u001b[43moutput_format\u001b[49m\u001b[43m,\u001b[49m\n\u001b[0;32m    178\u001b[0m \u001b[43m\u001b[49m\u001b[43m)\u001b[49m\n\u001b[0;32m    179\u001b[0m \u001b[38;5;28;01mreturn\u001b[39;00m \u001b[38;5;28mself\u001b[39m\u001b[38;5;241m.\u001b[39mdg\u001b[38;5;241m.\u001b[39m_enqueue(\u001b[38;5;124m\"\u001b[39m\u001b[38;5;124mimgs\u001b[39m\u001b[38;5;124m\"\u001b[39m, image_list_proto)\n",
      "File \u001b[1;32m~\\anaconda3\\lib\\site-packages\\streamlit\\elements\\image.py:538\u001b[0m, in \u001b[0;36mmarshall_images\u001b[1;34m(coordinates, image, caption, width, proto_imgs, clamp, channels, output_format)\u001b[0m\n\u001b[0;32m    534\u001b[0m \u001b[38;5;66;03m# We use the index of the image in the input image list to identify this image inside\u001b[39;00m\n\u001b[0;32m    535\u001b[0m \u001b[38;5;66;03m# MediaFileManager. For this, we just add the index to the image's \"coordinates\".\u001b[39;00m\n\u001b[0;32m    536\u001b[0m image_id \u001b[38;5;241m=\u001b[39m \u001b[38;5;124m\"\u001b[39m\u001b[38;5;132;01m%s\u001b[39;00m\u001b[38;5;124m-\u001b[39m\u001b[38;5;132;01m%i\u001b[39;00m\u001b[38;5;124m\"\u001b[39m \u001b[38;5;241m%\u001b[39m (coordinates, coord_suffix)\n\u001b[1;32m--> 538\u001b[0m proto_img\u001b[38;5;241m.\u001b[39murl \u001b[38;5;241m=\u001b[39m \u001b[43mimage_to_url\u001b[49m\u001b[43m(\u001b[49m\n\u001b[0;32m    539\u001b[0m \u001b[43m    \u001b[49m\u001b[43mimage\u001b[49m\u001b[43m,\u001b[49m\u001b[43m \u001b[49m\u001b[43mwidth\u001b[49m\u001b[43m,\u001b[49m\u001b[43m \u001b[49m\u001b[43mclamp\u001b[49m\u001b[43m,\u001b[49m\u001b[43m \u001b[49m\u001b[43mchannels\u001b[49m\u001b[43m,\u001b[49m\u001b[43m \u001b[49m\u001b[43moutput_format\u001b[49m\u001b[43m,\u001b[49m\u001b[43m \u001b[49m\u001b[43mimage_id\u001b[49m\n\u001b[0;32m    540\u001b[0m \u001b[43m\u001b[49m\u001b[43m)\u001b[49m\n",
      "File \u001b[1;32m~\\anaconda3\\lib\\site-packages\\streamlit\\elements\\image.py:389\u001b[0m, in \u001b[0;36mimage_to_url\u001b[1;34m(image, width, clamp, channels, output_format, image_id)\u001b[0m\n\u001b[0;32m    386\u001b[0m \u001b[38;5;28;01mif\u001b[39;00m mimetype \u001b[38;5;129;01mis\u001b[39;00m \u001b[38;5;28;01mNone\u001b[39;00m:\n\u001b[0;32m    387\u001b[0m     mimetype \u001b[38;5;241m=\u001b[39m \u001b[38;5;124m\"\u001b[39m\u001b[38;5;124mapplication/octet-stream\u001b[39m\u001b[38;5;124m\"\u001b[39m\n\u001b[1;32m--> 389\u001b[0m url \u001b[38;5;241m=\u001b[39m \u001b[43mruntime\u001b[49m\u001b[38;5;241;43m.\u001b[39;49m\u001b[43mget_instance\u001b[49m\u001b[43m(\u001b[49m\u001b[43m)\u001b[49m\u001b[38;5;241m.\u001b[39mmedia_file_mgr\u001b[38;5;241m.\u001b[39madd(image, mimetype, image_id)\n\u001b[0;32m    390\u001b[0m caching\u001b[38;5;241m.\u001b[39msave_media_data(image, mimetype, image_id)\n\u001b[0;32m    391\u001b[0m \u001b[38;5;28;01mreturn\u001b[39;00m url\n",
      "File \u001b[1;32m~\\anaconda3\\lib\\site-packages\\streamlit\\runtime\\__init__.py:26\u001b[0m, in \u001b[0;36mget_instance\u001b[1;34m()\u001b[0m\n\u001b[0;32m     22\u001b[0m \u001b[38;5;28;01mdef\u001b[39;00m \u001b[38;5;21mget_instance\u001b[39m() \u001b[38;5;241m-\u001b[39m\u001b[38;5;241m>\u001b[39m Runtime:\n\u001b[0;32m     23\u001b[0m \u001b[38;5;250m    \u001b[39m\u001b[38;5;124;03m\"\"\"Return the singleton Runtime instance. Raise an Error if the\u001b[39;00m\n\u001b[0;32m     24\u001b[0m \u001b[38;5;124;03m    Runtime hasn't been created yet.\u001b[39;00m\n\u001b[0;32m     25\u001b[0m \u001b[38;5;124;03m    \"\"\"\u001b[39;00m\n\u001b[1;32m---> 26\u001b[0m     \u001b[38;5;28;01mreturn\u001b[39;00m \u001b[43mRuntime\u001b[49m\u001b[38;5;241;43m.\u001b[39;49m\u001b[43minstance\u001b[49m\u001b[43m(\u001b[49m\u001b[43m)\u001b[49m\n",
      "File \u001b[1;32m~\\anaconda3\\lib\\site-packages\\streamlit\\runtime\\runtime.py:149\u001b[0m, in \u001b[0;36mRuntime.instance\u001b[1;34m(cls)\u001b[0m\n\u001b[0;32m    145\u001b[0m \u001b[38;5;250m\u001b[39m\u001b[38;5;124;03m\"\"\"Return the singleton Runtime instance. Raise an Error if the\u001b[39;00m\n\u001b[0;32m    146\u001b[0m \u001b[38;5;124;03mRuntime hasn't been created yet.\u001b[39;00m\n\u001b[0;32m    147\u001b[0m \u001b[38;5;124;03m\"\"\"\u001b[39;00m\n\u001b[0;32m    148\u001b[0m \u001b[38;5;28;01mif\u001b[39;00m \u001b[38;5;28mcls\u001b[39m\u001b[38;5;241m.\u001b[39m_instance \u001b[38;5;129;01mis\u001b[39;00m \u001b[38;5;28;01mNone\u001b[39;00m:\n\u001b[1;32m--> 149\u001b[0m     \u001b[38;5;28;01mraise\u001b[39;00m \u001b[38;5;167;01mRuntimeError\u001b[39;00m(\u001b[38;5;124m\"\u001b[39m\u001b[38;5;124mRuntime hasn\u001b[39m\u001b[38;5;124m'\u001b[39m\u001b[38;5;124mt been created!\u001b[39m\u001b[38;5;124m\"\u001b[39m)\n\u001b[0;32m    150\u001b[0m \u001b[38;5;28;01mreturn\u001b[39;00m \u001b[38;5;28mcls\u001b[39m\u001b[38;5;241m.\u001b[39m_instance\n",
      "\u001b[1;31mRuntimeError\u001b[0m: Runtime hasn't been created!"
     ]
    }
   ],
   "source": [
    "# Import required libraries\n",
    "import numpy as np \n",
    "import pandas as pd\n",
    "import streamlit as st\n",
    "from xgboost import XGBClassifier, plot_importance\n",
    "from sklearn.model_selection import train_test_split\n",
    "from sklearn.metrics import accuracy_score\n",
    "import pickle\n",
    "import time\n",
    "\n",
    "# Load the saved model\n",
    "with open('XGB model.pkl', 'rb') as f:\n",
    "    model = pickle.load(f)\n",
    "#model = XGBClassifier(n_estimators=200, max_depth=25, learning_rate=0.1, subsample=0.5)\n",
    "#model.fit(X_train, y_train)\n",
    "\n",
    "st.set_page_config(page_title='Diabet', page_icon='img/favicon.png', layout=\"wide\", initial_sidebar_state=\"expanded\", menu_items=None)\n",
    "\n",
    "\n",
    "#streamlit run \"C:\\LOCAL DISK D\\Documents\\7-SEM\\Project-AML\\Melanee-Deployments-master\\Melanee-Deployments-master\\pages\\Diabet.py\"\n",
    "\n",
    "\n",
    "\n",
    "st.title('Diabetes Estimation')\n",
    "\n",
    "st.subheader('Estimate your risk of developing Type II Diabetes based on your biomarker values, using a trusted machine learning algorithm.')\n",
    "\n",
    "st.sidebar.image('img/logo.png', use_column_width='auto', output_format='PNG')\n",
    "\n",
    "st.sidebar.subheader('Insert your biomarker values here:')\n",
    "\n",
    "def user_input():\n",
    "    num_pregn = st.sidebar.slider('Number of Pregnancies',0,20,4)\n",
    "    glucose = st.sidebar.slider('Glucose Level (mg/dL @ 2-Hour GTT)',0,240,121)\n",
    "    blood_press = st.sidebar.slider('Diastolic Blood Pressure (mm Hg)',0,150,69)\n",
    "    skin_thickn = st.sidebar.slider('Triceps Skin Fold Thickness (mm)',0,100,21)\n",
    "    insulin = st.sidebar.slider('2-Hour Serum Insulin (mu U/ml)',0,850,80)\n",
    "    bmi = st.sidebar.slider('Body Mass Index (kg/m^2)',0,70,32)\n",
    "    diab_pedigr = st.sidebar.slider('Diabetes Pedrigree Value',0.0,2.5,0.5)\n",
    "    age = st.sidebar.slider('Age (years)',0,85,33)\n",
    "\n",
    "    user_input = {\n",
    "        'Pregnancies': num_pregn,\n",
    "        'Glucose': glucose,\n",
    "        'BloodPressure': blood_press,\n",
    "        'SkinThickness': skin_thickn,\n",
    "        'Insulin': insulin,\n",
    "        'BMI': bmi,\n",
    "        'DiabetesPedigreeFunction': diab_pedigr,\n",
    "        'Age': age\n",
    "    }\n",
    "\n",
    "    user_data = pd.DataFrame(user_input, index=[0])\n",
    "    return user_data\n",
    "\n",
    "tab1, tab2 = st.tabs(['Overall Probability', 'Influencing Factors'])\n",
    "\n",
    "with tab1:\n",
    "    st.subheader('What is your risk of developing Type II Diabetes?')\n",
    "    user_outcome = model.predict_proba(user_input())\n",
    "    st.metric(label='Probability', value=(st.write('{:.1%}'.format(user_outcome[0,1]))), delta_color='inverse',\n",
    "    help='This is your calculated risk of developing Type II Diabetes.')\n",
    "    conclusion = ''\n",
    "    if user_outcome[0,1] <= 0.3:\n",
    "        conclusion = 'You **ARE NOT** at risk of developing Type II Diabetes.'\n",
    "    else:\n",
    "        conclusion = 'You **ARE** at risk of developing Type II Diabetes. Seek medical consultation.'\n",
    "    st.write(conclusion)\n",
    "\n",
    "with tab2:\n",
    "    st.subheader('Which factors contribute most to your risk of Type II Diabetes?')\n",
    "\n",
    "    # Plot most important features in desc order by \n",
    "    plot_feats = plot_importance(model, importance_type='gain', title=None, show_values=False, xlabel='Knowledge Gain', ylabel='Influencing Factor', color='#7E22CE', grid=False)\n",
    "    st.pyplot(plot_feats.figure)\n"
   ]
  },
  {
   "cell_type": "code",
   "execution_count": null,
   "id": "2bccbdb9",
   "metadata": {},
   "outputs": [],
   "source": []
  }
 ],
 "metadata": {
  "kernelspec": {
   "display_name": "Python 3 (ipykernel)",
   "language": "python",
   "name": "python3"
  },
  "language_info": {
   "codemirror_mode": {
    "name": "ipython",
    "version": 3
   },
   "file_extension": ".py",
   "mimetype": "text/x-python",
   "name": "python",
   "nbconvert_exporter": "python",
   "pygments_lexer": "ipython3",
   "version": "3.10.9"
  }
 },
 "nbformat": 4,
 "nbformat_minor": 5
}
